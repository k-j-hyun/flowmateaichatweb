{
 "cells": [
  {
   "cell_type": "code",
   "execution_count": 1,
   "id": "785c492c",
   "metadata": {},
   "outputs": [
    {
     "data": {
      "text/html": [
       "\n",
       "<style>\n",
       "div.container{width:86% !important;}\n",
       "div.cell.code_cell.rendered{width:100%;}\n",
       "div.CodeMirror {font-family:Consolas; font-size:12pt;}\n",
       "div.output {font-size:15pt; font-weight:bold;}\n",
       "div.input {font-family:Consolas; font-size:12pt;}\n",
       "div.prompt {min-width:70px;}\n",
       "div#toc-wrapper{padding-top:120px;}\n",
       "div.text_cell_render ul li{font-size:12pt;padding:5px;}\n",
       "table.dataframe{font-size:15px;}\n",
       "</style>\n"
      ],
      "text/plain": [
       "<IPython.core.display.HTML object>"
      ]
     },
     "metadata": {},
     "output_type": "display_data"
    }
   ],
   "source": [
    "from IPython.display import display, HTML\n",
    "display(HTML(\"\"\"\n",
    "<style>\n",
    "div.container{width:86% !important;}\n",
    "div.cell.code_cell.rendered{width:100%;}\n",
    "div.CodeMirror {font-family:Consolas; font-size:12pt;}\n",
    "div.output {font-size:15pt; font-weight:bold;}\n",
    "div.input {font-family:Consolas; font-size:12pt;}\n",
    "div.prompt {min-width:70px;}\n",
    "div#toc-wrapper{padding-top:120px;}\n",
    "div.text_cell_render ul li{font-size:12pt;padding:5px;}\n",
    "table.dataframe{font-size:15px;}\n",
    "</style>\n",
    "\"\"\"))"
   ]
  },
  {
   "cell_type": "code",
   "execution_count": 3,
   "id": "d2d1a841",
   "metadata": {},
   "outputs": [
    {
     "name": "stdout",
     "output_type": "stream",
     "text": [
      "(735, 10) (735, 10) (735, 1) (735, 1)\n"
     ]
    },
    {
     "data": {
      "text/html": [
       "<div>\n",
       "<style scoped>\n",
       "    .dataframe tbody tr th:only-of-type {\n",
       "        vertical-align: middle;\n",
       "    }\n",
       "\n",
       "    .dataframe tbody tr th {\n",
       "        vertical-align: top;\n",
       "    }\n",
       "\n",
       "    .dataframe thead th {\n",
       "        text-align: right;\n",
       "    }\n",
       "</style>\n",
       "<table border=\"1\" class=\"dataframe\">\n",
       "  <thead>\n",
       "    <tr style=\"text-align: right;\">\n",
       "      <th>예측값</th>\n",
       "      <th>보통</th>\n",
       "      <th>좋다</th>\n",
       "    </tr>\n",
       "    <tr>\n",
       "      <th>실제값</th>\n",
       "      <th></th>\n",
       "      <th></th>\n",
       "    </tr>\n",
       "  </thead>\n",
       "  <tbody>\n",
       "    <tr>\n",
       "      <th>보통</th>\n",
       "      <td>618</td>\n",
       "      <td>4</td>\n",
       "    </tr>\n",
       "    <tr>\n",
       "      <th>좋다</th>\n",
       "      <td>111</td>\n",
       "      <td>2</td>\n",
       "    </tr>\n",
       "  </tbody>\n",
       "</table>\n",
       "</div>"
      ],
      "text/plain": [
       "예측값   보통  좋다\n",
       "실제값         \n",
       "보통   618   4\n",
       "좋다   111   2"
      ]
     },
     "metadata": {},
     "output_type": "display_data"
    }
   ],
   "source": [
    "import numpy as np\n",
    "import pandas as pd\n",
    "from sklearn.preprocessing import LabelEncoder\n",
    "from sklearn.ensemble import RandomForestClassifier\n",
    "\n",
    "df = pd.read_csv('WA_Fn-UseC_-HR-Employee-Attrition_변환.csv')\n",
    "\n",
    "x_col = ['나이','출장','부서','학력','전공','참여프로젝트','직급','경력','전년도교육출장횟수','현회사근속년수']\n",
    "y_col = ['업무평가']\n",
    "\n",
    "df_data = df[x_col + y_col]\n",
    "\n",
    "from sklearn.model_selection import train_test_split\n",
    "x = df_data[x_col]\n",
    "y = df_data[y_col]\n",
    "X_train, X_test, Y_train, Y_test = train_test_split(x,y,test_size=0.5,stratify=y)\n",
    "print(X_train.shape, X_test.shape, Y_train.shape, Y_test.shape)\n",
    "\n",
    "\n",
    "le_buisness = LabelEncoder() # 출장\n",
    "le_depart = LabelEncoder() # 부서\n",
    "le_major = LabelEncoder() # 전공\n",
    "le_manager = LabelEncoder() # 직급\n",
    "\n",
    "X_train['출장'] = le_buisness.fit_transform(X_train['출장'])\n",
    "X_train['부서'] = le_depart.fit_transform(X_train['부서'])\n",
    "X_train['전공'] = le_major.fit_transform(X_train['전공'])\n",
    "X_train['직급'] = le_manager.fit_transform(X_train['직급'])\n",
    "\n",
    "X_test['출장'] = le_buisness.transform(X_test['출장'])\n",
    "X_test['부서'] = le_depart.transform(X_test['부서'])\n",
    "X_test['전공'] = le_major.transform(X_test['전공'])\n",
    "X_test['직급'] = le_manager.transform(X_test['직급'])\n",
    "\n",
    "rf_model = RandomForestClassifier()\n",
    "history = rf_model.fit(np.array(X_train), np.array(Y_train).ravel())\n",
    "\n",
    "pred = rf_model.predict(np.array(X_test))\n",
    "value = np.array(Y_test).ravel()\n",
    "\n",
    "display(pd.crosstab(value,pred, rownames=['실제값'],colnames=['예측값']))"
   ]
  },
  {
   "cell_type": "code",
   "execution_count": 5,
   "id": "ab1eef64",
   "metadata": {},
   "outputs": [
    {
     "data": {
      "text/plain": [
       "0       보통\n",
       "1       좋다\n",
       "2       보통\n",
       "3       보통\n",
       "4       보통\n",
       "        ..\n",
       "1465    보통\n",
       "1466    보통\n",
       "1467    좋다\n",
       "1468    보통\n",
       "1469    보통\n",
       "Name: 업무평가, Length: 1470, dtype: object"
      ]
     },
     "execution_count": 5,
     "metadata": {},
     "output_type": "execute_result"
    }
   ],
   "source": [
    "df_data['업무평가']"
   ]
  },
  {
   "cell_type": "code",
   "execution_count": 9,
   "id": "bdee9c73",
   "metadata": {},
   "outputs": [
    {
     "name": "stdout",
     "output_type": "stream",
     "text": [
      "(735, 10) (735, 10) (735,) (735,)\n",
      "\n",
      "[클래스 분포] 원본 학습데이터:\n",
      "업무평가\n",
      "보통    622\n",
      "좋다    113\n",
      "Name: count, dtype: int64\n",
      "\n",
      "[클래스 분포] 언더샘플링 후:\n",
      "__y__\n",
      "보통    113\n",
      "좋다    113\n",
      "Name: count, dtype: int64\n"
     ]
    },
    {
     "data": {
      "text/html": [
       "<div>\n",
       "<style scoped>\n",
       "    .dataframe tbody tr th:only-of-type {\n",
       "        vertical-align: middle;\n",
       "    }\n",
       "\n",
       "    .dataframe tbody tr th {\n",
       "        vertical-align: top;\n",
       "    }\n",
       "\n",
       "    .dataframe thead th {\n",
       "        text-align: right;\n",
       "    }\n",
       "</style>\n",
       "<table border=\"1\" class=\"dataframe\">\n",
       "  <thead>\n",
       "    <tr style=\"text-align: right;\">\n",
       "      <th>예측값</th>\n",
       "      <th>보통</th>\n",
       "      <th>좋다</th>\n",
       "    </tr>\n",
       "    <tr>\n",
       "      <th>실제값</th>\n",
       "      <th></th>\n",
       "      <th></th>\n",
       "    </tr>\n",
       "  </thead>\n",
       "  <tbody>\n",
       "    <tr>\n",
       "      <th>보통</th>\n",
       "      <td>331</td>\n",
       "      <td>291</td>\n",
       "    </tr>\n",
       "    <tr>\n",
       "      <th>좋다</th>\n",
       "      <td>63</td>\n",
       "      <td>50</td>\n",
       "    </tr>\n",
       "  </tbody>\n",
       "</table>\n",
       "</div>"
      ],
      "text/plain": [
       "예측값   보통   좋다\n",
       "실제값          \n",
       "보통   331  291\n",
       "좋다    63   50"
      ]
     },
     "metadata": {},
     "output_type": "display_data"
    },
    {
     "name": "stdout",
     "output_type": "stream",
     "text": [
      "\n",
      "[Classification Report]\n",
      "              precision    recall  f1-score   support\n",
      "\n",
      "          보통     0.8401    0.5322    0.6516       622\n",
      "          좋다     0.1466    0.4425    0.2203       113\n",
      "\n",
      "    accuracy                         0.5184       735\n",
      "   macro avg     0.4934    0.4873    0.4359       735\n",
      "weighted avg     0.7335    0.5184    0.5853       735\n",
      "\n"
     ]
    }
   ],
   "source": [
    "import numpy as np\n",
    "import pandas as pd\n",
    "from sklearn.preprocessing import LabelEncoder\n",
    "from sklearn.ensemble import RandomForestClassifier\n",
    "from sklearn.model_selection import train_test_split\n",
    "from sklearn.metrics import classification_report\n",
    "\n",
    "# 1) 데이터 로드\n",
    "df = pd.read_csv('WA_Fn-UseC_-HR-Employee-Attrition_변환.csv')\n",
    "\n",
    "x_col = ['나이','출장','부서','학력','전공','참여프로젝트','직급','경력','전년도교육출장횟수','현회사근속년수']\n",
    "y_col = ['업무평가']\n",
    "\n",
    "df_data = df[x_col + y_col].dropna().copy()\n",
    "\n",
    "X = df_data[x_col].copy()\n",
    "y = df_data[y_col[0]].copy()\n",
    "\n",
    "# 2) Train/Test split (타깃 기준 stratify)\n",
    "X_train, X_test, Y_train, Y_test = train_test_split(\n",
    "    X, y, test_size=0.5, stratify=y, random_state=42\n",
    ")\n",
    "print(X_train.shape, X_test.shape, Y_train.shape, Y_test.shape)\n",
    "\n",
    "# 3) 라벨 인코딩 (train으로 fit → test transform)\n",
    "le_buisness = LabelEncoder() # 출장\n",
    "le_depart   = LabelEncoder() # 부서\n",
    "le_major    = LabelEncoder() # 전공\n",
    "le_manager  = LabelEncoder() # 직급\n",
    "\n",
    "X_train = X_train.copy()\n",
    "X_test  = X_test.copy()\n",
    "\n",
    "X_train['출장'] = le_buisness.fit_transform(X_train['출장'])\n",
    "X_train['부서'] = le_depart.fit_transform(X_train['부서'])\n",
    "X_train['전공'] = le_major.fit_transform(X_train['전공'])\n",
    "X_train['직급'] = le_manager.fit_transform(X_train['직급'])\n",
    "\n",
    "X_test['출장'] = le_buisness.transform(X_test['출장'])\n",
    "X_test['부서'] = le_depart.transform(X_test['부서'])\n",
    "X_test['전공'] = le_major.transform(X_test['전공'])\n",
    "X_test['직급'] = le_manager.transform(X_test['직급'])\n",
    "\n",
    "# 4) ⚖️ 랜덤 언더샘플링 (학습 데이터에만)\n",
    "def random_undersample_df(X_df: pd.DataFrame, y_s: pd.Series, random_state=42):\n",
    "    tmp = X_df.copy()\n",
    "    tmp['__y__'] = y_s.values\n",
    "    # 가장 적은 클래스 수로 맞춤 (imblearn RandomUnderSampler(sampling_strategy='auto')와 유사)\n",
    "    n_min = tmp['__y__'].value_counts().min()\n",
    "    parts = []\n",
    "    for cls, grp in tmp.groupby('__y__'):\n",
    "        parts.append(grp.sample(n=n_min, random_state=random_state))\n",
    "    out = pd.concat(parts, axis=0).sample(frac=1.0, random_state=random_state)\n",
    "    y_out = out.pop('__y__')\n",
    "    return out, y_out\n",
    "\n",
    "X_res, y_res = random_undersample_df(X_train, Y_train, random_state=42)\n",
    "\n",
    "print(\"\\n[클래스 분포] 원본 학습데이터:\")\n",
    "print(Y_train.value_counts().sort_index())\n",
    "print(\"\\n[클래스 분포] 언더샘플링 후:\")\n",
    "print(y_res.value_counts().sort_index())\n",
    "\n",
    "# 5) 모델 학습\n",
    "rf_model = RandomForestClassifier(\n",
    "    n_estimators=300,\n",
    "    n_jobs=-1,\n",
    "    random_state=42\n",
    ")\n",
    "rf_model.fit(X_res, y_res)\n",
    "\n",
    "# 6) 예측 및 평가\n",
    "pred = rf_model.predict(X_test)\n",
    "cm = pd.crosstab(Y_test, pred, rownames=['실제값'], colnames=['예측값'])\n",
    "display(cm)\n",
    "\n",
    "print(\"\\n[Classification Report]\")\n",
    "print(classification_report(Y_test, pred, digits=4))\n"
   ]
  }
 ],
 "metadata": {
  "kernelspec": {
   "display_name": "llm",
   "language": "python",
   "name": "llm"
  },
  "language_info": {
   "codemirror_mode": {
    "name": "ipython",
    "version": 3
   },
   "file_extension": ".py",
   "mimetype": "text/x-python",
   "name": "python",
   "nbconvert_exporter": "python",
   "pygments_lexer": "ipython3",
   "version": "3.10.18"
  },
  "toc": {
   "base_numbering": 1,
   "nav_menu": {},
   "number_sections": false,
   "sideBar": true,
   "skip_h1_title": false,
   "title_cell": "Table of Contents",
   "title_sidebar": "Contents",
   "toc_cell": false,
   "toc_position": {},
   "toc_section_display": true,
   "toc_window_display": false
  }
 },
 "nbformat": 4,
 "nbformat_minor": 5
}
